{
 "cells": [
  {
   "cell_type": "code",
   "execution_count": null,
   "metadata": {},
   "outputs": [],
   "source": [
    "from ultralytics import YOLO\n",
    "model_name = 'yolov8s.yaml'  # You can also use yolov8n.yaml, yolov8m.yaml, yolov8l.yaml, etc.\n",
    "data_path = './data/data.yaml'  # Path to the YAML file\n",
    "\n",
    "model = YOLO(model_name)\n",
    "results = model.train(data=data_path, epochs=50, imgsz=640, batch=16)\n",
    "model.save('yolov8_trained_model.pt')"
   ]
  }
 ],
 "metadata": {
  "kernelspec": {
   "display_name": "Python 3",
   "language": "python",
   "name": "python3"
  },
  "language_info": {
   "codemirror_mode": {
    "name": "ipython",
    "version": 3
   },
   "file_extension": ".py",
   "mimetype": "text/x-python",
   "name": "python",
   "nbconvert_exporter": "python",
   "pygments_lexer": "ipython3",
   "version": "3.12.7"
  }
 },
 "nbformat": 4,
 "nbformat_minor": 2
}
